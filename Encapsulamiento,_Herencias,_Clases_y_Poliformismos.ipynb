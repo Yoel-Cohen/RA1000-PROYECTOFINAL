{
  "cells": [
    {
      "cell_type": "markdown",
      "metadata": {
        "id": "GzgxmEWkrHQc"
      },
      "source": [
        "# Clases, herencia y polimorfismos"
      ]
    },
    {
      "cell_type": "markdown",
      "metadata": {
        "id": "XaYv_1XqrHQd"
      },
      "source": [
        "## Definiciones"
      ]
    },
    {
      "cell_type": "markdown",
      "metadata": {
        "id": "rFg5Mu_xrHQd"
      },
      "source": [
        "Las definiciones se crean de íntegramente (built-in) en Python. El método es `def`"
      ]
    },
    {
      "cell_type": "markdown",
      "metadata": {
        "id": "mFO_o8jWrHQe"
      },
      "source": [
        "Imaginemos que queremos crear una función global que salude a cierta persona."
      ]
    },
    {
      "cell_type": "code",
      "execution_count": 104,
      "metadata": {
        "id": "nLcdmD7brHQe"
      },
      "outputs": [],
      "source": [
        "def Hola( ):\n",
        "    x = \"Hola!\"\n",
        "    return x"
      ]
    },
    {
      "cell_type": "code",
      "execution_count": 105,
      "metadata": {
        "id": "rBPwCesDrHQe",
        "outputId": "1ef51476-fb66-4c3d-b2d4-9b5b2ac20680",
        "colab": {
          "base_uri": "https://localhost:8080/",
          "height": 35
        }
      },
      "outputs": [
        {
          "output_type": "execute_result",
          "data": {
            "text/plain": [
              "'Hola!'"
            ],
            "application/vnd.google.colaboratory.intrinsic+json": {
              "type": "string"
            }
          },
          "metadata": {},
          "execution_count": 105
        }
      ],
      "source": [
        "Hola( )"
      ]
    },
    {
      "cell_type": "code",
      "execution_count": 106,
      "metadata": {
        "id": "8Bbn7tfbrHQf"
      },
      "outputs": [],
      "source": [
        "def Hi():\n",
        "    print(\"Hi!\")"
      ]
    },
    {
      "cell_type": "code",
      "execution_count": 107,
      "metadata": {
        "id": "VyqR7A_frHQf",
        "outputId": "2add0f1a-5a4d-4406-a7b8-b0de3eaffdf1",
        "colab": {
          "base_uri": "https://localhost:8080/"
        }
      },
      "outputs": [
        {
          "output_type": "stream",
          "name": "stdout",
          "text": [
            "Hi!\n"
          ]
        }
      ],
      "source": [
        "Hi()"
      ]
    },
    {
      "cell_type": "code",
      "execution_count": 108,
      "metadata": {
        "id": "_V34ZAcXrHQf"
      },
      "outputs": [],
      "source": [
        "# Podemos crear una función que haga la concatenación de dos listas\n",
        "\n",
        "def conc(L,M):\n",
        "    x = L+M\n",
        "    return x"
      ]
    },
    {
      "cell_type": "code",
      "execution_count": 109,
      "metadata": {
        "id": "OxiWaUporHQf",
        "outputId": "baebc37b-b8a6-4a74-d663-e091610aaa0f",
        "colab": {
          "base_uri": "https://localhost:8080/"
        }
      },
      "outputs": [
        {
          "output_type": "execute_result",
          "data": {
            "text/plain": [
              "5"
            ]
          },
          "metadata": {},
          "execution_count": 109
        }
      ],
      "source": [
        "conc(3,2)"
      ]
    },
    {
      "cell_type": "code",
      "execution_count": 110,
      "metadata": {
        "id": "Ky25Smw2rHQf"
      },
      "outputs": [],
      "source": [
        "L = [1,2]\n",
        "M = [3,4]"
      ]
    },
    {
      "cell_type": "code",
      "execution_count": 111,
      "metadata": {
        "id": "15Z72cVHrHQg",
        "outputId": "96965638-5b19-40e8-c9d2-9ca29a6c722a",
        "colab": {
          "base_uri": "https://localhost:8080/"
        }
      },
      "outputs": [
        {
          "output_type": "execute_result",
          "data": {
            "text/plain": [
              "[1, 2, 3, 4]"
            ]
          },
          "metadata": {},
          "execution_count": 111
        }
      ],
      "source": [
        "conc(L,M)"
      ]
    },
    {
      "cell_type": "code",
      "execution_count": 112,
      "metadata": {
        "id": "8uOD9nHkrHQg"
      },
      "outputs": [],
      "source": [
        "# Crear una definición que sume entrada dos listas\n",
        "\n",
        "def suma_vectores(v, w):\n",
        "    x = [v[i]+w[i] for i in range(0,3)]\n",
        "    return x"
      ]
    },
    {
      "cell_type": "code",
      "execution_count": 113,
      "metadata": {
        "id": "6Qs-psVgrHQg",
        "outputId": "a332d4f6-779d-4a94-eabc-b483db28bfb2",
        "colab": {
          "base_uri": "https://localhost:8080/"
        }
      },
      "outputs": [
        {
          "output_type": "execute_result",
          "data": {
            "text/plain": [
              "[2, 4, 6]"
            ]
          },
          "metadata": {},
          "execution_count": 113
        }
      ],
      "source": [
        "suma_vectores( [1,2,3], [1,2,3] )"
      ]
    },
    {
      "cell_type": "markdown",
      "metadata": {
        "id": "LrNsXxFBrHQg"
      },
      "source": [
        "## Clases"
      ]
    },
    {
      "cell_type": "markdown",
      "metadata": {
        "id": "vMCM35IYrHQg"
      },
      "source": [
        "- No tomen argumentos\n",
        "- Muestra enunciados usando el método de inicialización `init`.\n",
        "- El método para crear clases es `class`."
      ]
    },
    {
      "cell_type": "code",
      "execution_count": 114,
      "metadata": {
        "id": "XPff2y3ZrHQg"
      },
      "outputs": [],
      "source": [
        "class Animal():\n",
        "\n",
        "    def _init_(self):\n",
        "        print(\"creamos una clase\")\n",
        "\n",
        "    def adivina(self):\n",
        "        print(\"Hola, soy un animal\")\n",
        "\n",
        "    def escribir(self):\n",
        "        print(\"Estoy escribiendo\")"
      ]
    },
    {
      "cell_type": "code",
      "execution_count": 114,
      "metadata": {
        "id": "IITa2dDKrHQg"
      },
      "outputs": [],
      "source": []
    },
    {
      "cell_type": "code",
      "execution_count": 115,
      "metadata": {
        "id": "rLonpJGnrHQh",
        "outputId": "e5dd58bf-f42a-4759-f06b-88f4cc2e39cc",
        "colab": {
          "base_uri": "https://localhost:8080/"
        }
      },
      "outputs": [
        {
          "output_type": "execute_result",
          "data": {
            "text/plain": [
              "__main__.Animal"
            ]
          },
          "metadata": {},
          "execution_count": 115
        }
      ],
      "source": [
        "type(Animal())"
      ]
    },
    {
      "cell_type": "code",
      "execution_count": 116,
      "metadata": {
        "id": "wxB16gYerHQh"
      },
      "outputs": [],
      "source": [
        "animal = Animal()"
      ]
    },
    {
      "cell_type": "code",
      "execution_count": 117,
      "metadata": {
        "id": "nyqC5jbtrHQh",
        "outputId": "62b4a58e-f267-4241-e4ae-02b85d9cc373",
        "colab": {
          "base_uri": "https://localhost:8080/"
        }
      },
      "outputs": [
        {
          "output_type": "stream",
          "name": "stdout",
          "text": [
            "Hola, soy un animal\n"
          ]
        }
      ],
      "source": [
        "animal.adivina()"
      ]
    },
    {
      "cell_type": "code",
      "execution_count": 118,
      "metadata": {
        "id": "j3oYhT21rHQh",
        "outputId": "fe6d08f7-4313-4500-d3f8-72b63d0461d3",
        "colab": {
          "base_uri": "https://localhost:8080/"
        }
      },
      "outputs": [
        {
          "output_type": "stream",
          "name": "stdout",
          "text": [
            "Estoy escribiendo\n"
          ]
        }
      ],
      "source": [
        "animal.escribir()"
      ]
    },
    {
      "cell_type": "markdown",
      "metadata": {
        "id": "f9fhVjpnrHQh"
      },
      "source": [
        "## Herencia"
      ]
    },
    {
      "cell_type": "markdown",
      "metadata": {
        "id": "eVAMtIuhrHQh"
      },
      "source": [
        "Crear nuevas clases inherentes a métodos de la \"clase base\"."
      ]
    },
    {
      "cell_type": "code",
      "execution_count": 119,
      "metadata": {
        "id": "ndzWVnELrHQh"
      },
      "outputs": [],
      "source": [
        "class Perro(Animal):\n",
        "\n",
        "    def __init__(self):\n",
        "        Animal._init_(self)\n",
        "        print(\"Creamos una clase Perro\")\n",
        "\n",
        "    def adivina(self):\n",
        "        print(\"Soy Cleto\")\n",
        "\n",
        "    def wuaw(self):\n",
        "        print(\"WUAU\")"
      ]
    },
    {
      "cell_type": "code",
      "execution_count": 120,
      "metadata": {
        "id": "oJ9NjUTfrHQi",
        "outputId": "dd27f904-5d55-4088-d522-697f747c650a",
        "colab": {
          "base_uri": "https://localhost:8080/"
        }
      },
      "outputs": [
        {
          "output_type": "stream",
          "name": "stdout",
          "text": [
            "creamos una clase\n",
            "Creamos una clase Perro\n"
          ]
        }
      ],
      "source": [
        "perro = Perro()"
      ]
    },
    {
      "cell_type": "code",
      "execution_count": 121,
      "metadata": {
        "id": "Qk4tIszerHQi",
        "outputId": "8bae522f-5780-4321-9fad-5f9ef587e562",
        "colab": {
          "base_uri": "https://localhost:8080/"
        }
      },
      "outputs": [
        {
          "output_type": "execute_result",
          "data": {
            "text/plain": [
              "<__main__.Perro at 0x7bba1c4aab90>"
            ]
          },
          "metadata": {},
          "execution_count": 121
        }
      ],
      "source": [
        "perro"
      ]
    },
    {
      "cell_type": "code",
      "execution_count": 122,
      "metadata": {
        "id": "dtL4ZeyKrHQi",
        "outputId": "778a8a07-24ae-4642-b405-6b42ce9f0802",
        "colab": {
          "base_uri": "https://localhost:8080/"
        }
      },
      "outputs": [
        {
          "output_type": "stream",
          "name": "stdout",
          "text": [
            "Hola, soy un animal\n",
            "None\n",
            "Soy Cleto\n",
            "None\n"
          ]
        }
      ],
      "source": [
        "print(animal.adivina())\n",
        "print(perro.adivina())"
      ]
    },
    {
      "cell_type": "code",
      "execution_count": 123,
      "metadata": {
        "id": "W6Z5lhb8rHQi",
        "outputId": "cf1e9bcd-00b0-47bd-d03d-858d4cee3a89",
        "colab": {
          "base_uri": "https://localhost:8080/"
        }
      },
      "outputs": [
        {
          "output_type": "stream",
          "name": "stdout",
          "text": [
            "WUAU\n"
          ]
        }
      ],
      "source": [
        "perro.wuaw()"
      ]
    },
    {
      "cell_type": "code",
      "execution_count": 124,
      "metadata": {
        "id": "YF6nfpG0rHQi",
        "outputId": "3540fb10-c78d-4639-fff5-005725d3a934",
        "colab": {
          "base_uri": "https://localhost:8080/"
        }
      },
      "outputs": [
        {
          "output_type": "stream",
          "name": "stdout",
          "text": [
            "Soy Cleto\n"
          ]
        }
      ],
      "source": [
        "perro.adivina()"
      ]
    },
    {
      "cell_type": "markdown",
      "metadata": {
        "id": "bT-ZKxvcrHQi"
      },
      "source": [
        "### Ejemplo"
      ]
    },
    {
      "cell_type": "code",
      "execution_count": 125,
      "metadata": {
        "id": "AHeY01W3rHQi"
      },
      "outputs": [],
      "source": [
        "class Fecha():\n",
        "\n",
        "    def _init_(self):\n",
        "        print(\"creamos una clase que da la fecha\")\n",
        "\n",
        "    def fecha(self):\n",
        "        return \"2022-25-08\"\n"
      ]
    },
    {
      "cell_type": "code",
      "execution_count": 126,
      "metadata": {
        "id": "TnbqWq0-rHQj"
      },
      "outputs": [],
      "source": [
        "f = Fecha()"
      ]
    },
    {
      "cell_type": "code",
      "execution_count": 127,
      "metadata": {
        "id": "DqI49nAHrHQj",
        "outputId": "098b216a-75b4-449a-f72a-c1b0af9bf696",
        "colab": {
          "base_uri": "https://localhost:8080/",
          "height": 35
        }
      },
      "outputs": [
        {
          "output_type": "execute_result",
          "data": {
            "text/plain": [
              "'2022-25-08'"
            ],
            "application/vnd.google.colaboratory.intrinsic+json": {
              "type": "string"
            }
          },
          "metadata": {},
          "execution_count": 127
        }
      ],
      "source": [
        "f.fecha()"
      ]
    },
    {
      "cell_type": "code",
      "execution_count": 128,
      "metadata": {
        "id": "V38tHADjrHQj"
      },
      "outputs": [],
      "source": [
        "class Tiempo(Fecha):\n",
        "\n",
        "    def _init_(self):\n",
        "        Fecha._init_(self)\n",
        "        print(\"Creamos una clase Tiempo\")\n",
        "\n",
        "    def hora(self):\n",
        "        return \"7:00\""
      ]
    },
    {
      "cell_type": "code",
      "execution_count": 129,
      "metadata": {
        "id": "VdIbSawHrHQj",
        "outputId": "99662ef4-9d96-48d2-a10b-aba360f31de5",
        "colab": {
          "base_uri": "https://localhost:8080/",
          "height": 35
        }
      },
      "outputs": [
        {
          "output_type": "execute_result",
          "data": {
            "text/plain": [
              "'7:00'"
            ],
            "application/vnd.google.colaboratory.intrinsic+json": {
              "type": "string"
            }
          },
          "metadata": {},
          "execution_count": 129
        }
      ],
      "source": [
        "t = Tiempo()\n",
        "\n",
        "t.hora()"
      ]
    },
    {
      "cell_type": "markdown",
      "metadata": {
        "id": "aulKEFl8rHQj"
      },
      "source": [
        "### Métodos objeto"
      ]
    },
    {
      "cell_type": "markdown",
      "metadata": {
        "id": "dp-cd425rHQj"
      },
      "source": [
        "`_init_` inicializa la clase base.\n",
        "`__init__` inicializa la clase base y sirve como constructor. Ojo: se ponen dos guiones abajo al principio y al final."
      ]
    },
    {
      "cell_type": "code",
      "execution_count": 130,
      "metadata": {
        "id": "ThcCeFVdrHQj"
      },
      "outputs": [],
      "source": [
        "class Persona():\n",
        "\n",
        "    def __init__(self, nombre):\n",
        "        self.nombre = nombre\n",
        "\n",
        "    def greet(self):\n",
        "        print(\"Hola, mi nombre es\", self.nombre)"
      ]
    },
    {
      "cell_type": "code",
      "execution_count": 131,
      "metadata": {
        "id": "__t9xG28rHQk"
      },
      "outputs": [],
      "source": [
        "p = Persona(\"Aarón\")"
      ]
    },
    {
      "cell_type": "code",
      "execution_count": 132,
      "metadata": {
        "id": "LPKdyYCBrHQk",
        "outputId": "fe4d1e3b-4a59-4a9e-f012-d4b4a6a7ee6b",
        "colab": {
          "base_uri": "https://localhost:8080/"
        }
      },
      "outputs": [
        {
          "output_type": "stream",
          "name": "stdout",
          "text": [
            "Hola, mi nombre es Aarón\n"
          ]
        }
      ],
      "source": [
        "p.greet()"
      ]
    },
    {
      "cell_type": "code",
      "execution_count": 133,
      "metadata": {
        "id": "N0-U4jmWrHQk"
      },
      "outputs": [],
      "source": [
        "class Complex():\n",
        "\n",
        "    def __init__(self, real, imaginaria):\n",
        "        self.r = real\n",
        "        self.i = imaginaria"
      ]
    },
    {
      "cell_type": "code",
      "execution_count": 134,
      "metadata": {
        "id": "oD84VSxirHQk"
      },
      "outputs": [],
      "source": [
        "z = Complex(3.0,4.0)"
      ]
    },
    {
      "cell_type": "code",
      "execution_count": 135,
      "metadata": {
        "id": "8jLfNq1orHQk",
        "outputId": "2492d704-fdef-47a5-c20f-43f4c7754d24",
        "colab": {
          "base_uri": "https://localhost:8080/"
        }
      },
      "outputs": [
        {
          "output_type": "execute_result",
          "data": {
            "text/plain": [
              "3.0"
            ]
          },
          "metadata": {},
          "execution_count": 135
        }
      ],
      "source": [
        "z.r"
      ]
    },
    {
      "cell_type": "code",
      "execution_count": 136,
      "metadata": {
        "id": "f8gO0qyZrHQl",
        "outputId": "e249500f-bd5a-48de-8989-c8a5662151cb",
        "colab": {
          "base_uri": "https://localhost:8080/"
        }
      },
      "outputs": [
        {
          "output_type": "execute_result",
          "data": {
            "text/plain": [
              "4.0"
            ]
          },
          "metadata": {},
          "execution_count": 136
        }
      ],
      "source": [
        "z.i"
      ]
    },
    {
      "cell_type": "code",
      "execution_count": 137,
      "metadata": {
        "id": "RlH7D0C5rHQl"
      },
      "outputs": [],
      "source": [
        "class Perro():\n",
        "\n",
        "    animal = \"perrito\"\n",
        "\n",
        "    def __init__(self, Raza, Color, Edad):\n",
        "        self.Raza = Raza\n",
        "        self.Color = Color\n",
        "        self.Edad = Edad\n"
      ]
    },
    {
      "cell_type": "code",
      "execution_count": 138,
      "metadata": {
        "id": "3XmcyuaurHQl"
      },
      "outputs": [],
      "source": [
        "Cleto = Perro(\"Pug\", \"beige\", \"viejito\")"
      ]
    },
    {
      "cell_type": "code",
      "execution_count": 139,
      "metadata": {
        "id": "nz5-UyUtrHQl",
        "outputId": "3f95a4ef-9685-46b9-b244-142d394dc2ca",
        "colab": {
          "base_uri": "https://localhost:8080/"
        }
      },
      "outputs": [
        {
          "output_type": "stream",
          "name": "stdout",
          "text": [
            "Cleto detalles:\n",
            "Cleto es un perrito\n",
            "La raza de Cleto es Pug\n",
            "El color de Cleto es beige\n",
            "La edad de Cleto es viejito\n"
          ]
        }
      ],
      "source": [
        "print(\"Cleto detalles:\")\n",
        "\n",
        "print(\"Cleto es un\", Cleto.animal)\n",
        "\n",
        "print(\"La raza de Cleto es\", Cleto.Raza)\n",
        "\n",
        "print(\"El color de Cleto es\", Cleto.Color)\n",
        "\n",
        "print(\"La edad de Cleto es\", Cleto.Edad)"
      ]
    },
    {
      "cell_type": "markdown",
      "metadata": {
        "id": "ya-c5WwRrHQl"
      },
      "source": [
        "## Otro ejemplo"
      ]
    },
    {
      "cell_type": "code",
      "execution_count": 140,
      "metadata": {
        "id": "-O6oCpIArHQl"
      },
      "outputs": [],
      "source": [
        "class Empleados():\n",
        "\n",
        "    Conteo = 0\n",
        "\n",
        "    def __init__(self, nombre, salario):\n",
        "        self.nombre = nombre\n",
        "        self.salario = salario\n",
        "        Empleados.Conteo += 1\n",
        "\n",
        "    def conteo(self):\n",
        "        print(\"Empleados %d\" % Empleados.Conteo)\n",
        "\n",
        "\n",
        "    def empleado(self):\n",
        "        print(\"Nombre:\", self.nombre, \",Salario:\", self.salario)"
      ]
    },
    {
      "cell_type": "code",
      "execution_count": 141,
      "metadata": {
        "id": "_-VfeReKrHQm"
      },
      "outputs": [],
      "source": [
        "emp1 = Empleados(\"Carlos\", 10000)"
      ]
    },
    {
      "cell_type": "code",
      "execution_count": 142,
      "metadata": {
        "id": "42H-_UsmrHQm"
      },
      "outputs": [],
      "source": [
        "emp2 = Empleados(\"Esteban\", 30000)"
      ]
    },
    {
      "cell_type": "code",
      "execution_count": 143,
      "metadata": {
        "id": "JTK5tvKerHQm",
        "outputId": "8a245673-90be-4b40-9396-f5f1d38b25a1",
        "colab": {
          "base_uri": "https://localhost:8080/"
        }
      },
      "outputs": [
        {
          "output_type": "stream",
          "name": "stdout",
          "text": [
            "Nombre: Esteban ,Salario: 30000\n"
          ]
        }
      ],
      "source": [
        "emp2.empleado()"
      ]
    },
    {
      "cell_type": "code",
      "execution_count": 144,
      "metadata": {
        "id": "I1zbKIvgrHQm",
        "outputId": "4ebcdf55-14fc-429d-d93e-17c1fb51408d",
        "colab": {
          "base_uri": "https://localhost:8080/"
        }
      },
      "outputs": [
        {
          "output_type": "execute_result",
          "data": {
            "text/plain": [
              "2"
            ]
          },
          "metadata": {},
          "execution_count": 144
        }
      ],
      "source": [
        "Empleados.Conteo"
      ]
    },
    {
      "cell_type": "code",
      "execution_count": 145,
      "metadata": {
        "id": "66tloWY4rHQm",
        "outputId": "0a296216-8053-40cc-836d-865e12867e6f",
        "colab": {
          "base_uri": "https://localhost:8080/"
        }
      },
      "outputs": [
        {
          "output_type": "stream",
          "name": "stdout",
          "text": [
            "Total de empleados 4\n"
          ]
        }
      ],
      "source": [
        "emp1 = Empleados(\"Carlos\", 10000)\n",
        "emp2 = Empleados(\"Esteban\", 30000)\n",
        "\n",
        "print(\"Total de empleados %d\" % Empleados.Conteo)"
      ]
    },
    {
      "cell_type": "markdown",
      "metadata": {
        "id": "AvV1KNjRrHQm"
      },
      "source": [
        "## Clases, herencias y polimorfismos"
      ]
    },
    {
      "cell_type": "code",
      "execution_count": 146,
      "metadata": {
        "id": "8emfc6qOrHQm"
      },
      "outputs": [],
      "source": [
        "class Person:\n",
        "\n",
        "    def __init__(self, last_name, first_name, age):\n",
        "        self.__last_name = last_name\n",
        "        self.__first_name = first_name\n",
        "        self.__age = age\n",
        "\n",
        "    @property\n",
        "    def last_name(self):\n",
        "        return self.__last_name\n",
        "\n",
        "    @property\n",
        "    def first_name(self):\n",
        "        return self.__first_name\n",
        "\n",
        "    @property\n",
        "    def age(self):\n",
        "        return self.__age\n",
        "\n",
        "    def happy_birthday(self):\n",
        "        self.__age = self.age + 1"
      ]
    },
    {
      "cell_type": "code",
      "execution_count": 147,
      "metadata": {
        "id": "7beysN2irHQn",
        "outputId": "f98b0eef-107b-4eff-81e3-50817f3e7591",
        "colab": {
          "base_uri": "https://localhost:8080/"
        }
      },
      "outputs": [
        {
          "output_type": "execute_result",
          "data": {
            "text/plain": [
              "True"
            ]
          },
          "metadata": {},
          "execution_count": 147
        }
      ],
      "source": [
        "class Numero_Primo:\n",
        "    def __init__(self, number):\n",
        "        self.number = number\n",
        "\n",
        "    def is_prime(self):\n",
        "        if self.number < 2:\n",
        "            return False\n",
        "        for i in range(2, int(self.number ** 0.5) + 1):\n",
        "            if self.number % i == 0:\n",
        "                return False\n",
        "        return True\n",
        "\n",
        "class Numero_Primo_Positivo(Numero_Primo):\n",
        "    def __init__(self, number):\n",
        "        if number <= 0:\n",
        "            raise ValueError(\"El número debe ser positivo\")\n",
        "        super().__init__(number)\n",
        "\n",
        "# Example usage:\n",
        "num1 = Numero_Primo(2)\n",
        "num1.is_prime()  # Output: True"
      ]
    },
    {
      "cell_type": "code",
      "source": [
        "num2 = Numero_Primo(8)\n",
        "num2.is_prime()"
      ],
      "metadata": {
        "colab": {
          "base_uri": "https://localhost:8080/"
        },
        "id": "r_POfTToRXyz",
        "outputId": "2a10f6fb-706b-45db-cf09-61a25be07c36"
      },
      "execution_count": 148,
      "outputs": [
        {
          "output_type": "execute_result",
          "data": {
            "text/plain": [
              "False"
            ]
          },
          "metadata": {},
          "execution_count": 148
        }
      ]
    },
    {
      "cell_type": "markdown",
      "source": [
        "#Uso de clases, herencias y polimorfismos\n"
      ],
      "metadata": {
        "id": "mjXR7pri4KuW"
      }
    },
    {
      "cell_type": "code",
      "source": [
        "from math import pi, e\n"
      ],
      "metadata": {
        "id": "M80zRQRN4iHe"
      },
      "execution_count": 149,
      "outputs": []
    },
    {
      "cell_type": "code",
      "source": [
        "pi, e\n"
      ],
      "metadata": {
        "colab": {
          "base_uri": "https://localhost:8080/"
        },
        "id": "rRFBLJJB4oLA",
        "outputId": "0c21420b-9807-48d5-9411-bd485e95ca45"
      },
      "execution_count": 150,
      "outputs": [
        {
          "output_type": "execute_result",
          "data": {
            "text/plain": [
              "(3.141592653589793, 2.718281828459045)"
            ]
          },
          "metadata": {},
          "execution_count": 150
        }
      ]
    },
    {
      "cell_type": "code",
      "source": [
        "# Clase madre\n",
        "class Figura:\n",
        "    def __init__(self):\n",
        "        pass\n",
        "\n",
        "    def area(self):\n",
        "        return 0\n",
        "\n",
        "    def perimetro(self):\n",
        "        return 0\n",
        "\n",
        "# Crear clase heredada\n",
        "class Cuadrado(Figura):\n",
        "    def __init__(self, lado):\n",
        "        self.lado = lado\n",
        "# Métodos sobrecargados\n",
        "    def area(self):\n",
        "        return self.lado**2\n",
        "\n",
        "    def perimetro(self):\n",
        "        return self.lado*4\n",
        "\n",
        "class Circulo(Figura):\n",
        "    def __init__(self, radio):\n",
        "      self.radio = radio\n",
        "# Estamos sobreescribiendo el método de la clase madre\n",
        "    def area(self):\n",
        "      return pi*self.radio**2\n",
        "\n",
        "    def perimetro(self):\n",
        "      return 2*pi*self.radio\n",
        "\n",
        "class Triangulo(Figura):\n",
        "    def __init__(self, base, altura):\n",
        "      self.base = base\n",
        "      self.altura = altura\n",
        " # Estamos sobreescribiendo el método de la clase madre\n",
        "    def area(self):\n",
        "      return (self.base*self.altura)/2\n",
        "\n",
        "    def perimetro(self):\n",
        "      return (self.base**2 + self.altura**2)**0.5\n"
      ],
      "metadata": {
        "id": "Jo0WUDi24sM5"
      },
      "execution_count": 151,
      "outputs": []
    },
    {
      "cell_type": "code",
      "source": [
        "Triangulo(2,3).area(), Triangulo(2,3).perimetro()"
      ],
      "metadata": {
        "colab": {
          "base_uri": "https://localhost:8080/"
        },
        "id": "sM6osTDS43uV",
        "outputId": "eaa6c1d9-68c9-4014-c26b-a07a74e6757a"
      },
      "execution_count": 152,
      "outputs": [
        {
          "output_type": "execute_result",
          "data": {
            "text/plain": [
              "(3.0, 3.605551275463989)"
            ]
          },
          "metadata": {},
          "execution_count": 152
        }
      ]
    },
    {
      "cell_type": "code",
      "source": [
        "L = [Cuadrado(2), Circulo(3), Triangulo(2,3)]\n",
        "\n",
        "for f in L:\n",
        "    print(f\"El área del {f.__class__.__name__} es {f.area()}\")\n"
      ],
      "metadata": {
        "colab": {
          "base_uri": "https://localhost:8080/"
        },
        "id": "ZMPKUE9Q46SN",
        "outputId": "d80c8da5-ae8e-4f98-8b65-237261b4ab11"
      },
      "execution_count": 153,
      "outputs": [
        {
          "output_type": "stream",
          "name": "stdout",
          "text": [
            "El área del Cuadrado es 4\n",
            "El área del Circulo es 28.274333882308138\n",
            "El área del Triangulo es 3.0\n"
          ]
        }
      ]
    },
    {
      "cell_type": "code",
      "source": [
        "for f in L:\n",
        "    print(f\"El perímetro del {f.__class__.__name__} es {f.perimetro()}\")"
      ],
      "metadata": {
        "colab": {
          "base_uri": "https://localhost:8080/"
        },
        "id": "6GxarwvF4-F5",
        "outputId": "a2b072d4-90c1-47fc-c8e6-e209f14dafb5"
      },
      "execution_count": 154,
      "outputs": [
        {
          "output_type": "stream",
          "name": "stdout",
          "text": [
            "El perímetro del Cuadrado es 8\n",
            "El perímetro del Circulo es 18.84955592153876\n",
            "El perímetro del Triangulo es 3.605551275463989\n"
          ]
        }
      ]
    },
    {
      "cell_type": "markdown",
      "source": [
        "# Encapsulamiento\n",
        "\n",
        "Vamos a crear una clase que se llamará punto y calcularemos su distancia al rigen.\n",
        "\n"
      ],
      "metadata": {
        "id": "lLOf1d865Txc"
      }
    },
    {
      "cell_type": "markdown",
      "source": [
        "Si $(x,y)\\in \\mathbb{R}^2$, la distacia de este punto al origen está dado por:\n",
        "\n",
        "$$r=d((x,y),(0,0))=\\sqrt{x^{2}+y^{2}}.$$\n",
        "\n",
        "Si $(x_1,y_1)\\in \\mathbb{R}^2$ es otro punto, entonces\n",
        "$$d((x,y),(x_1,y_1))=\\sqrt{(x-x_1)^{2}+(y-y_1)^{2}}.$$"
      ],
      "metadata": {
        "id": "wuDYdg-v5X5A"
      }
    },
    {
      "cell_type": "code",
      "source": [
        "import math\n",
        "class punto():\n",
        "  def __init__(self, x=0, y=0):\n",
        "    self.x=x\n",
        "    self.y=y\n",
        "\n",
        "  def mostrar(self):\n",
        "    return self.x, self.y\n",
        "\n",
        "  def distancia(self, otro):\n",
        "    return math.sqrt((self.x-otro.x)**2+(self.y-otro.y)**2)"
      ],
      "metadata": {
        "id": "fawxHumd5elO"
      },
      "execution_count": 155,
      "outputs": []
    },
    {
      "cell_type": "code",
      "source": [
        "punto_1 = punto() # El inicializador de la clase\n",
        "punto_1.mostrar() # El metodo mostrar"
      ],
      "metadata": {
        "colab": {
          "base_uri": "https://localhost:8080/"
        },
        "id": "eydAGmAh5pME",
        "outputId": "b5261a87-2b96-432a-af13-7d055802f39f"
      },
      "execution_count": 156,
      "outputs": [
        {
          "output_type": "execute_result",
          "data": {
            "text/plain": [
              "(0, 0)"
            ]
          },
          "metadata": {},
          "execution_count": 156
        }
      ]
    },
    {
      "cell_type": "code",
      "source": [
        "punto_2 = punto(3,4)\n",
        "punto_2.mostrar()\n",
        "print(type(punto_2.mostrar()))"
      ],
      "metadata": {
        "colab": {
          "base_uri": "https://localhost:8080/"
        },
        "id": "JgQMKPUL5p-J",
        "outputId": "cff5f0e2-de29-4687-c6ac-51a320e6cb6f"
      },
      "execution_count": 157,
      "outputs": [
        {
          "output_type": "stream",
          "name": "stdout",
          "text": [
            "<class 'tuple'>\n"
          ]
        }
      ]
    },
    {
      "cell_type": "code",
      "source": [
        "# Estamos calculando la distancia del punto (3,4) al origen.\n",
        "punto_1.distancia(punto_2)"
      ],
      "metadata": {
        "colab": {
          "base_uri": "https://localhost:8080/"
        },
        "id": "Ko6LxrAl5sHU",
        "outputId": "af23f8e9-7951-443f-a690-29ba3e356f2e"
      },
      "execution_count": 158,
      "outputs": [
        {
          "output_type": "execute_result",
          "data": {
            "text/plain": [
              "5.0"
            ]
          },
          "metadata": {},
          "execution_count": 158
        }
      ]
    },
    {
      "cell_type": "code",
      "source": [
        "# La distancia del punto (1,1) al punto (3,4).\n",
        "punto_3 = punto(1,1)\n",
        "punto_2.distancia(punto_3)"
      ],
      "metadata": {
        "colab": {
          "base_uri": "https://localhost:8080/"
        },
        "id": "AnsWz3sQ5uaJ",
        "outputId": "4ba63089-1698-4d1e-ead4-7e7599557cfa"
      },
      "execution_count": 159,
      "outputs": [
        {
          "output_type": "execute_result",
          "data": {
            "text/plain": [
              "3.605551275463989"
            ]
          },
          "metadata": {},
          "execution_count": 159
        }
      ]
    },
    {
      "cell_type": "code",
      "source": [
        "punto_2.distancia(punto_2)"
      ],
      "metadata": {
        "colab": {
          "base_uri": "https://localhost:8080/"
        },
        "id": "ye4h0ZuK5xJk",
        "outputId": "2df45c58-25c0-4ce4-b9bf-9cdf400f7acb"
      },
      "execution_count": 160,
      "outputs": [
        {
          "output_type": "execute_result",
          "data": {
            "text/plain": [
              "0.0"
            ]
          },
          "metadata": {},
          "execution_count": 160
        }
      ]
    },
    {
      "cell_type": "code",
      "source": [
        "# Accedemos a los puntos\n",
        "punto_2.x, punto_2.y"
      ],
      "metadata": {
        "colab": {
          "base_uri": "https://localhost:8080/"
        },
        "id": "CiGKTZ8M5zZ7",
        "outputId": "7a5b37f7-956a-4a64-c214-db3bfd4ba0d2"
      },
      "execution_count": 161,
      "outputs": [
        {
          "output_type": "execute_result",
          "data": {
            "text/plain": [
              "(3, 4)"
            ]
          },
          "metadata": {},
          "execution_count": 161
        }
      ]
    },
    {
      "cell_type": "code",
      "source": [
        "# Modificar a los puntos\n",
        "punto_2.x = 5 # Renombro a mi variable de la clase\n",
        "punto_2.x , punto_2.y"
      ],
      "metadata": {
        "colab": {
          "base_uri": "https://localhost:8080/"
        },
        "id": "3LdeG7fz54A0",
        "outputId": "933eea2f-6bbe-45fd-b3b6-44fe825fe9be"
      },
      "execution_count": 162,
      "outputs": [
        {
          "output_type": "execute_result",
          "data": {
            "text/plain": [
              "(5, 4)"
            ]
          },
          "metadata": {},
          "execution_count": 162
        }
      ]
    },
    {
      "cell_type": "code",
      "source": [
        "punto_2.mostrar()"
      ],
      "metadata": {
        "colab": {
          "base_uri": "https://localhost:8080/"
        },
        "id": "v6YoVr_P54uh",
        "outputId": "d4c2aadc-74cd-48a4-d080-c29056fc5dee"
      },
      "execution_count": 163,
      "outputs": [
        {
          "output_type": "execute_result",
          "data": {
            "text/plain": [
              "(5, 4)"
            ]
          },
          "metadata": {},
          "execution_count": 163
        }
      ]
    },
    {
      "cell_type": "code",
      "source": [],
      "metadata": {
        "id": "uWGk2itD57IJ"
      },
      "execution_count": 163,
      "outputs": []
    },
    {
      "cell_type": "markdown",
      "source": [
        "#Puntos en 3d\n",
        "La función super() proporciona una referencia a la clase madre."
      ],
      "metadata": {
        "id": "b-9S3zFD6AUC"
      }
    },
    {
      "cell_type": "code",
      "source": [
        "class punto3d(punto):\n",
        "  def __init__(self, x=0, y=0, z=0):\n",
        "    super().__init__(x,y)\n",
        "    self.z = z\n",
        "\n",
        "  def mostrar(self):\n",
        "    print(self.x, self.y, self.z)\n",
        "\n",
        "  def distancia(self, otro):\n",
        "    dx = self.x-otro.x\n",
        "    dy = self.y-otro.y\n",
        "    dz = self.z-otro.z\n",
        "    return math.sqrt(dx**2+dy**2+dz**2)"
      ],
      "metadata": {
        "id": "8XvNVC1Q6Dpq"
      },
      "execution_count": 164,
      "outputs": []
    },
    {
      "cell_type": "code",
      "source": [
        "p1 = punto3d(1,2,3)\n",
        "p2 = punto3d(4,5,6)\n",
        "p1.distancia(p2)"
      ],
      "metadata": {
        "colab": {
          "base_uri": "https://localhost:8080/"
        },
        "id": "IP6YhOcv6KvM",
        "outputId": "67de86c1-aa4c-46e9-e04f-e08b5a4be595"
      },
      "execution_count": 165,
      "outputs": [
        {
          "output_type": "execute_result",
          "data": {
            "text/plain": [
              "5.196152422706632"
            ]
          },
          "metadata": {},
          "execution_count": 165
        }
      ]
    },
    {
      "cell_type": "code",
      "source": [
        "p1.mostrar()"
      ],
      "metadata": {
        "colab": {
          "base_uri": "https://localhost:8080/"
        },
        "id": "SpCctG-P6OGA",
        "outputId": "40451489-4410-4a1e-b222-389a8a3f9c20"
      },
      "execution_count": 166,
      "outputs": [
        {
          "output_type": "stream",
          "name": "stdout",
          "text": [
            "1 2 3\n"
          ]
        }
      ]
    },
    {
      "cell_type": "code",
      "source": [
        "import matplotlib.pyplot as plt\n",
        "import numpy as np\n",
        "\n",
        "t = np.linspace(0, 2*np.pi, 100)\n",
        "\n",
        "x = 16 * np.sin(t)**3\n",
        "y = 13 * np.cos(t) - 5 * np.cos(2*t) - 2 * np.cos(3*t) - np.cos(4*t)\n",
        "\n",
        "plt.figure(figsize=(8,10))\n",
        "plt.plot(x,y, color=\"red\")\n",
        "plt.show()\n"
      ],
      "metadata": {
        "colab": {
          "base_uri": "https://localhost:8080/",
          "height": 830
        },
        "id": "2eq5yHLM6RuE",
        "outputId": "0b9d2478-5ddf-4ab1-b590-bf3a99a43098"
      },
      "execution_count": 167,
      "outputs": [
        {
          "output_type": "display_data",
          "data": {
            "text/plain": [
              "<Figure size 800x1000 with 1 Axes>"
            ],
            "image/png": "[encoded data removed]"
          },
          "metadata": {}
        }
      ]
    }
  ],
  "metadata": {
    "kernelspec": {
      "display_name": "Python 3 (ipykernel)",
      "language": "python",
      "name": "python3"
    },
    "language_info": {
      "codemirror_mode": {
        "name": "ipython",
        "version": 3
      },
      "file_extension": ".py",
      "mimetype": "text/x-python",
      "name": "python",
      "nbconvert_exporter": "python",
      "pygments_lexer": "ipython3",
      "version": "3.9.13"
    },
    "colab": {
      "provenance": []
    }
  },
  "nbformat": 4,
  "nbformat_minor": 0
}